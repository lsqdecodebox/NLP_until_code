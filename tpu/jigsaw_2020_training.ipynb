{
 "cells": [
  {
   "cell_type": "code",
   "execution_count": 1,
   "metadata": {
    "_cell_guid": "c4ad26dd-8d2a-43e9-a3ea-0a4342a16e52",
    "_uuid": "07d7bc95-0377-4db3-aa05-2bd6cf989e78"
   },
   "outputs": [
    {
     "name": "stdout",
     "output_type": "stream",
     "text": [
      "2.2.0\n"
     ]
    },
    {
     "name": "stderr",
     "output_type": "stream",
     "text": [
      "\u001b[34m\u001b[1mwandb\u001b[0m: \u001b[33mWARNING\u001b[0m W&B installed but not logged in.  Run `wandb login` or set the WANDB_API_KEY env variable.\n"
     ]
    }
   ],
   "source": [
    "MAX_LEN = 192 \n",
    "DROPOUT = 0.5 # use aggressive dropout\n",
    "BATCH_SIZE = 16 # per TPU core\n",
    "\n",
    "\n",
    "### Different learning rate for transformer and head ###\n",
    "LR_TRANSFORMER = 5e-6\n",
    "LR_HEAD = 1e-3\n",
    "\n",
    "# PRETRAINED_TOKENIZER=  'jplu/tf-xlm-roberta-large'\n",
    "PRETRAINED_TOKENIZER = '/kaggle/input/jplu-tf-xlm-roberta-large'\n",
    "PRETRAINED_MODEL = '/kaggle/input/jigsaw-mlm-finetuned-xlm-r-large'\n",
    "# PRETRAINED_MODEL = '/kaggle/input/jplu-tf-xlm-roberta-large'\n",
    "D = '/kaggle/input/jigsaw-multilingual-toxic-comment-classification/'\n",
    "D_TRANS = '/kaggle/input/jigsaw-train-multilingual-coments-google-api/'\n",
    "\n",
    "LANGS = {\n",
    "    'en': 'english',\n",
    "    'it': 'italian', \n",
    "    'fr': 'french', \n",
    "    'es': 'spanish',\n",
    "    'tr': 'turkish', \n",
    "    'ru': 'russian',\n",
    "    'pt': 'portuguese'\n",
    "}\n",
    "\n",
    "import os\n",
    "import numpy as np\n",
    "import pandas as pd\n",
    "import random as rn\n",
    "import gc\n",
    "import pickle\n",
    "from tqdm import tqdm\n",
    "from tensorflow.python.keras import backend as K\n",
    "from sklearn.metrics import roc_auc_score\n",
    "from sklearn.model_selection import train_test_split\n",
    "import tensorflow as tf\n",
    "print(tf.__version__)\n",
    "from tensorflow.keras.layers import Dense, Input, Dropout\n",
    "from tensorflow.keras.models import Model\n",
    "from tensorflow.keras.optimizers import Adam\n",
    "import transformers\n",
    "from transformers import TFRobertaModel, AutoTokenizer\n",
    "import logging\n",
    "# no extensive logging \n",
    "logging.getLogger().setLevel(logging.NOTSET)\n",
    "\n",
    "AUTO = tf.data.experimental.AUTOTUNE\n",
    "\n",
    "os.environ['PYTHONHASHSEED']=str(2020)\n",
    "np.random.seed(2020)\n",
    "rn.seed(2020)\n",
    "tf.random.set_seed(2020)\n",
    "os.environ['TF_DETERMINISTIC_OPS'] = '1'"
   ]
  },
  {
   "cell_type": "code",
   "execution_count": 2,
   "metadata": {},
   "outputs": [
    {
     "name": "stdout",
     "output_type": "stream",
     "text": [
      "/kaggle/input/jigsaw-multilingual-toxic-comment-classification/test.csv\n",
      "/kaggle/input/jigsaw-multilingual-toxic-comment-classification/sample_submission.csv\n",
      "/kaggle/input/jigsaw-multilingual-toxic-comment-classification/test-processed-seqlen128.csv\n",
      "/kaggle/input/jigsaw-multilingual-toxic-comment-classification/validation-processed-seqlen128.csv\n",
      "/kaggle/input/jigsaw-multilingual-toxic-comment-classification/jigsaw-toxic-comment-train-processed-seqlen128.csv\n",
      "/kaggle/input/jigsaw-multilingual-toxic-comment-classification/validation.csv\n",
      "/kaggle/input/jigsaw-multilingual-toxic-comment-classification/jigsaw-unintended-bias-train.csv\n",
      "/kaggle/input/jigsaw-multilingual-toxic-comment-classification/jigsaw-toxic-comment-train.csv\n",
      "/kaggle/input/jigsaw-multilingual-toxic-comment-classification/jigsaw-unintended-bias-train-processed-seqlen128.csv\n",
      "/kaggle/input/jplu-tf-xlm-roberta-large/sentencepiece.bpe.model\n",
      "/kaggle/input/jplu-tf-xlm-roberta-large/config.json\n",
      "/kaggle/input/jplu-tf-xlm-roberta-large/tf_model.h5\n",
      "/kaggle/input/jigsaw-train-multilingual-coments-google-api/jigsaw-toxic-comment-train-google-it.csv\n",
      "/kaggle/input/jigsaw-train-multilingual-coments-google-api/jigsaw-toxic-comment-train-google-fr.csv\n",
      "/kaggle/input/jigsaw-train-multilingual-coments-google-api/jigsaw-toxic-comment-train-google-ru.csv\n",
      "/kaggle/input/jigsaw-train-multilingual-coments-google-api/jigsaw-toxic-comment-train-google-ru-cleaned.csv\n",
      "/kaggle/input/jigsaw-train-multilingual-coments-google-api/jigsaw-toxic-comment-train-google-pt.csv\n",
      "/kaggle/input/jigsaw-train-multilingual-coments-google-api/jigsaw-toxic-comment-train-google-it-cleaned.csv\n",
      "/kaggle/input/jigsaw-train-multilingual-coments-google-api/jigsaw-toxic-comment-train-google-tr.csv\n",
      "/kaggle/input/jigsaw-train-multilingual-coments-google-api/jigsaw-toxic-comment-train-google-pt-cleaned.csv\n",
      "/kaggle/input/jigsaw-train-multilingual-coments-google-api/jigsaw-toxic-comment-train-google-es.csv\n",
      "/kaggle/input/jigsaw-train-multilingual-coments-google-api/jigsaw-toxic-comment-train-google-es-cleaned.csv\n",
      "/kaggle/input/jigsaw-train-multilingual-coments-google-api/jigsaw-toxic-comment-train-google-tr-cleaned.csv\n",
      "/kaggle/input/jigsaw-train-multilingual-coments-google-api/jigsaw-toxic-comment-train-google-fr-cleaned.csv\n",
      "/kaggle/input/jigsaw-mlm-finetuned-xlm-r-large/config.json\n",
      "/kaggle/input/jigsaw-mlm-finetuned-xlm-r-large/tf_model.h5\n"
     ]
    }
   ],
   "source": [
    "for dirname, _, filenames in os.walk('/kaggle/input'):\n",
    "    for filename in filenames:\n",
    "        print(os.path.join(dirname, filename))"
   ]
  },
  {
   "cell_type": "markdown",
   "metadata": {
    "_cell_guid": "dda6b430-ea9c-4772-8bd1-0938cfd6e63b",
    "_uuid": "f0c9b5d5-e529-441d-8f37-7f64a1daccb9"
   },
   "source": [
    "## Connect to TPU"
   ]
  },
  {
   "cell_type": "code",
   "execution_count": 3,
   "metadata": {
    "_cell_guid": "86a303dd-5d1d-4d3f-bf28-4a02b6816e9b",
    "_uuid": "5a5fd45e-8f97-44d8-95f6-29cc8563dc3d"
   },
   "outputs": [
    {
     "name": "stdout",
     "output_type": "stream",
     "text": [
      "Running on TPU  grpc://10.0.0.2:8470\n",
      "REPLICAS:  8\n"
     ]
    }
   ],
   "source": [
    "def connect_to_TPU():\n",
    "    \"\"\"Detect hardware, return appropriate distribution strategy\"\"\"\n",
    "    try:\n",
    "        # TPU detection. No parameters necessary if TPU_NAME environment variable is\n",
    "        # set: this is always the case on Kaggle.\n",
    "        tpu = tf.distribute.cluster_resolver.TPUClusterResolver()\n",
    "        print('Running on TPU ', tpu.master())\n",
    "    except ValueError:\n",
    "        tpu = None\n",
    "\n",
    "    if tpu:\n",
    "        tf.config.experimental_connect_to_cluster(tpu)\n",
    "        tf.tpu.experimental.initialize_tpu_system(tpu)\n",
    "        strategy = tf.distribute.experimental.TPUStrategy(tpu)\n",
    "    else:\n",
    "        # Default distribution strategy in Tensorflow. Works on CPU and single GPU.\n",
    "        strategy = tf.distribute.get_strategy()\n",
    "\n",
    "    global_batch_size = BATCH_SIZE * strategy.num_replicas_in_sync\n",
    "\n",
    "    return tpu, strategy, global_batch_size\n",
    "\n",
    "\n",
    "tpu, strategy, global_batch_size = connect_to_TPU()\n",
    "print(\"REPLICAS: \", strategy.num_replicas_in_sync)"
   ]
  },
  {
   "cell_type": "code",
   "execution_count": 4,
   "metadata": {},
   "outputs": [],
   "source": [
    "# train1_df = pd.read_csv(D+'jigsaw-toxic-comment-train.csv')\n",
    "# train1_df = train1_df.sort_values(by='id').reset_index(drop=True)\n",
    "# train1_df.columns,train1_df.shape"
   ]
  },
  {
   "cell_type": "code",
   "execution_count": 5,
   "metadata": {},
   "outputs": [],
   "source": [
    "# t1_df = pd.read_csv(D_TRANS+'jigsaw-toxic-comment-train-google-fr.csv')\n",
    "# t1_df = t1_df.sort_values(by='id').reset_index()\n",
    "# t_t_df.toxic = t1_df.toxic.apply(lambda x:eval(x))\n",
    "# t1_df.toxic.dtype"
   ]
  },
  {
   "cell_type": "markdown",
   "metadata": {
    "_cell_guid": "d070fa12-8165-41c2-9828-9690c8efa826",
    "_uuid": "5e6d306f-f2ca-4452-9ace-661e6df8bae8"
   },
   "source": [
    "# tokenizer\n"
   ]
  },
  {
   "cell_type": "code",
   "execution_count": 6,
   "metadata": {
    "_cell_guid": "900f2d01-b87c-42e7-8cc2-8dcba95ffa54",
    "_uuid": "7d5605a3-df77-4574-9899-89529d0a6e61"
   },
   "outputs": [],
   "source": [
    "# %%time\n",
    "\n",
    "def regular_encode(texts, tokenizer, maxlen=256):\n",
    "    enc_di = tokenizer.batch_encode_plus(\n",
    "        texts, \n",
    "        return_attention_masks=False, \n",
    "        return_token_type_ids=False,\n",
    "        pad_to_max_length=True,\n",
    "        max_length=maxlen\n",
    "    )\n",
    "    \n",
    "    return np.array(enc_di['input_ids'])\n"
   ]
  },
  {
   "cell_type": "markdown",
   "metadata": {
    "_cell_guid": "0725dd72-142e-4139-8e12-103302d53bc9",
    "_uuid": "13500d69-d19f-4ca0-8958-d4d8af5610e8"
   },
   "source": [
    "# datasets\n"
   ]
  },
  {
   "cell_type": "code",
   "execution_count": 7,
   "metadata": {
    "_cell_guid": "757b2c93-9c07-441d-ba2e-47b8607b3795",
    "_uuid": "8b748024-314d-4256-b67b-0bc71ecac19d"
   },
   "outputs": [],
   "source": [
    "def create_dist_dataset(X, y=None, training=False):\n",
    "    \n",
    "    dataset = tf.data.Dataset.from_tensor_slices(X)\n",
    "\n",
    "    ### Add y if present ###\n",
    "    if y is not None:\n",
    "        dataset_y = tf.data.Dataset.from_tensor_slices(y)\n",
    "        dataset = tf.data.Dataset.zip((dataset, dataset_y))\n",
    "        \n",
    "    ### Repeat if training ###\n",
    "    if training:\n",
    "        dataset = dataset.shuffle(len(X)).repeat()\n",
    "    \n",
    "    dataset = dataset.batch(global_batch_size).prefetch(AUTO)\n",
    "#     print(len(list(dataset.as_numpy_iterator())))\n",
    "    ### make it distributed  ###\n",
    "    dist_dataset = strategy.experimental_distribute_dataset(dataset)\n",
    "\n",
    "    return dist_dataset\n"
   ]
  },
  {
   "cell_type": "markdown",
   "metadata": {},
   "source": [
    "# Model & optimizer"
   ]
  },
  {
   "cell_type": "code",
   "execution_count": 8,
   "metadata": {
    "_cell_guid": "3ba0b8c0-3e4c-4afe-8766-844c6b6a8c0f",
    "_uuid": "9f6161c2-a256-4285-9a0e-f23700f4b195"
   },
   "outputs": [
    {
     "name": "stdout",
     "output_type": "stream",
     "text": [
      "CPU times: user 7 µs, sys: 2 µs, total: 9 µs\n",
      "Wall time: 15 µs\n"
     ]
    }
   ],
   "source": [
    "%%time\n",
    "# tfa.optimizers.AdamW(learning_rate=lr, weight_decay=wd)\n",
    "def create_model_and_optimizer():\n",
    "    with strategy.scope():\n",
    "        transformer_layer = TFRobertaModel.from_pretrained(PRETRAINED_MODEL)                \n",
    "        model = build_model(transformer_layer)\n",
    "        optimizer_transformer = Adam(learning_rate=LR_TRANSFORMER)\n",
    "        optimizer_head = Adam(learning_rate=LR_HEAD)\n",
    "    return model, optimizer_transformer, optimizer_head\n",
    "\n",
    "\n",
    "def build_model(transformer):\n",
    "    inp = Input(shape=(MAX_LEN,), dtype=tf.int32, name=\"input_word_ids\")\n",
    "    # Huggingface transformers have multiple outputs, embeddings are the first one\n",
    "    # let's slice out the first position, the paper says its not worse than pooling\n",
    "    x = transformer(inp)[0][:, 0, :]  \n",
    "#     logits = torch.mean(torch.stack([   # torch.Size([7, 30])\n",
    "#             self.classifier(self.high_dropout(cls_output))\n",
    "#             for _ in range(5)\n",
    "#         ], dim=0), dim=0)\n",
    "    x = Dropout(DROPOUT)(x)\n",
    "    ### note, adding the name to later identify these weights for different LR\n",
    "    out = Dense(1, activation='sigmoid', name='custom_head')(x)\n",
    "    \n",
    "    model = Model(inputs=[inp], outputs=[out])\n",
    "    \n",
    "    return model\n",
    "\n",
    "# model, optimizer_transformer, optimizer_head = create_model_and_optimizer()\n",
    "# model.summary()"
   ]
  },
  {
   "cell_type": "markdown",
   "metadata": {},
   "source": [
    "# schedule"
   ]
  },
  {
   "cell_type": "code",
   "execution_count": 9,
   "metadata": {},
   "outputs": [
    {
     "data": {
      "image/png": "[encoded data removed]",
      "text/plain": [
       "<Figure size 432x288 with 1 Axes>"
      ]
     },
     "metadata": {
      "needs_background": "light"
     },
     "output_type": "display_data"
    }
   ],
   "source": [
    "def get_linear_schedule_with_warmup(num_warmup_steps, num_training_steps):\n",
    "    \n",
    "    def lrfn(current_step,lr):\n",
    "        if current_step < num_warmup_steps:\n",
    "            lr_mul = (float(current_step)+0.0000001) / float(max(1, num_warmup_steps))\n",
    "        else:\n",
    "            lr_mul = max(0.0, float(num_training_steps - current_step) / float(max(1, num_training_steps - num_warmup_steps)))\n",
    "        return lr*lr_mul\n",
    "    \n",
    "    return lrfn\n",
    "\n",
    "import matplotlib.pyplot as plt\n",
    "\n",
    "_lrfn = get_linear_schedule_with_warmup(30,150)\n",
    "plt.plot([i for i in range(150)], [_lrfn(i,3e-5) for i in range(150)]);\n",
    "    "
   ]
  },
  {
   "cell_type": "markdown",
   "metadata": {},
   "source": [
    "# loss & metric"
   ]
  },
  {
   "cell_type": "code",
   "execution_count": 10,
   "metadata": {},
   "outputs": [],
   "source": [
    "def define_losses_and_metrics():\n",
    "    with strategy.scope():\n",
    "        loss_object = tf.keras.losses.BinaryCrossentropy(\n",
    "            reduction=tf.keras.losses.Reduction.NONE, from_logits=False)\n",
    "\n",
    "        def compute_loss(labels, predictions):\n",
    "            per_example_loss = loss_object(labels, predictions)\n",
    "            loss = tf.nn.compute_average_loss(\n",
    "                per_example_loss, global_batch_size = global_batch_size)\n",
    "            return loss\n",
    "\n",
    "        train_accuracy_metric = tf.keras.metrics.AUC(name='training_AUC')\n",
    "\n",
    "    return compute_loss, train_accuracy_metric\n",
    "\n",
    "\n"
   ]
  },
  {
   "cell_type": "markdown",
   "metadata": {
    "_cell_guid": "0e02e579-4010-4a52-b4ba-f7157b5c9f42",
    "_uuid": "9ce1d72f-d16c-4cde-9edc-d63926623155"
   },
   "source": [
    "# training"
   ]
  },
  {
   "cell_type": "code",
   "execution_count": 11,
   "metadata": {
    "_cell_guid": "20b20e6a-16c4-475f-92ef-2a7809d21621",
    "_uuid": "50c766ac-68bd-4884-ba54-657f5d385786"
   },
   "outputs": [],
   "source": [
    "class train:\n",
    "    def __init__(self,\n",
    "                 train_dist_dataset=None, \n",
    "                 val_dist_dataset=None, \n",
    "                 y_val=None,\n",
    "                 total_steps=2000, \n",
    "                 validate_every=200,\n",
    "                 model=None, \n",
    "                 optimizer_transformer=None,\n",
    "                 optimizer_head=None, \n",
    "                 compute_loss=None,\n",
    "                 train_accuracy_metric=None,\n",
    "                 dir_name='transformer_ptm'):\n",
    "\n",
    "        \n",
    "        self.model = model\n",
    "        self.optimizer_transformer = optimizer_transformer\n",
    "        self.optimizer_head = optimizer_head\n",
    "        self.compute_loss = compute_loss\n",
    "        self.train_accuracy_metric = train_accuracy_metric \n",
    "        self.dir_name = dir_name\n",
    "        \n",
    "        self.do_train(train_dist_dataset, val_dist_dataset, y_val, total_steps, validate_every)\n",
    "        \n",
    "    def do_train(self,\n",
    "                 train_dist_dataset,\n",
    "                 val_dist_dataset,\n",
    "                 y_val=None,\n",
    "                 total_steps=2000,\n",
    "                 validate_every=200):\n",
    "        \n",
    "        best_weights, history = None, []\n",
    "        scheduler = get_linear_schedule_with_warmup(total_steps//3,total_steps)\n",
    "        step = 0\n",
    "        \n",
    "        for tensor in tqdm(train_dist_dataset, desc=\"training\"):\n",
    "            K.set_value(self.optimizer_transformer.lr, \n",
    "                        scheduler(step,float(LR_TRANSFORMER)))\n",
    "            K.set_value(self.optimizer_head.lr, \n",
    "                        scheduler(step,float(LR_HEAD)))\n",
    "\n",
    "            self.distributed_train_step(tensor) \n",
    "            step+=1\n",
    "\n",
    "\n",
    "            if (step % validate_every == 0):   \n",
    "                train_metric = self.train_accuracy_metric.result().numpy()\n",
    "\n",
    "                val_metric = roc_auc_score(y_val, self.predict(val_dist_dataset))\n",
    "\n",
    "                print(\"Step {}, train AUC: {:.5f}  val AUC: {:.5f}\".format(step, train_metric, val_metric)) \n",
    "\n",
    "                history.append(val_metric)\n",
    "                if history[-1] == max(history):\n",
    "                    best_weights = self.model.get_weights()\n",
    "                    print('best model...')\n",
    "\n",
    "                self.train_accuracy_metric.reset_states()\n",
    "#             if self.step%10==0:\n",
    "#                 print(self.step)\n",
    "            \n",
    "            if step  == total_steps:\n",
    "                break\n",
    "\n",
    "        self.model.set_weights(best_weights)\n",
    "        \n",
    "#         save_model(self.model, self.dir_name)\n",
    "        \n",
    "#         print('save done')\n",
    "\n",
    "    @tf.function\n",
    "    def distributed_train_step(self, data):\n",
    "        strategy.experimental_run_v2(self.train_step, args=(data,))\n",
    "\n",
    "    def train_step(self, inputs):\n",
    "        features, labels = inputs\n",
    "\n",
    "        transformer_trainable_variables = [ v for v in self.model.trainable_variables \n",
    "                                           if (('pooler' not in v.name)  and \n",
    "                                               ('custom' not in v.name))]\n",
    "        head_trainable_variables = [ v for v in self.model.trainable_variables \n",
    "                                    if 'custom'  in v.name]\n",
    "\n",
    "        # calculate the 2 gradients ( note persistent, and del)\n",
    "        with tf.GradientTape(persistent=True) as tape:\n",
    "            predictions = self.model(features, training=True)\n",
    "            loss = self.compute_loss(labels, predictions)\n",
    "\n",
    "            self.optimizer_transformer.apply_gradients(zip(tape.gradient(loss, transformer_trainable_variables), \n",
    "                                                      transformer_trainable_variables))\n",
    "            self.optimizer_head.apply_gradients(zip(tape.gradient(loss, head_trainable_variables), \n",
    "                                               head_trainable_variables))\n",
    "        del tape\n",
    "        del transformer_trainable_variables,head_trainable_variables\n",
    "\n",
    "        self.train_accuracy_metric.update_state(labels, predictions)\n",
    "        gc.collect()\n",
    "\n",
    "\n",
    "    def predict(self,dataset):  \n",
    "        predictions = []\n",
    "        for tensor in dataset:\n",
    "            predictions.append(self.distributed_prediction_step(tensor))\n",
    "        ### stack replicas and batches\n",
    "        predictions = np.vstack(list(map(np.vstack,predictions)))\n",
    "        return predictions\n",
    "\n",
    "    @tf.function\n",
    "    def distributed_prediction_step(self,data):\n",
    "        predictions = strategy.experimental_run_v2(self.prediction_step, args=(data,))\n",
    "        return strategy.experimental_local_results(predictions)\n",
    "\n",
    "    def prediction_step(self,inputs):\n",
    "        features = inputs  # note datasets used in prediction do not have labels\n",
    "        predictions = self.model(features, training=False)\n",
    "        return predictions\n",
    "    \n",
    "    \n",
    "def save_model(model, transformer_dir='transformer_ptm'):\n",
    "    \"\"\"\n",
    "    Special function to load a keras model that uses a transformer layer\n",
    "    \"\"\"\n",
    "    transformer = model.layers[1]\n",
    "    if not os.path.exists(transformer_dir):\n",
    "        os.makedirs(transformer_dir)\n",
    "    transformer.save_pretrained(transformer_dir)\n",
    "    custom_head = model.get_layer('custom_head').get_weights()\n",
    "    pickle.dump(custom_head, open(os.path.join(transformer_dir,'custom_head.pickle'), 'wb'))\n",
    "\n",
    "def load_model(transformer_dir='transformer_ptm'):\n",
    "    \"\"\"\n",
    "    Special function to load a keras model that uses a transformer layer\n",
    "    \"\"\"\n",
    "    transformer = TFRobertaModel.from_pretrained(transformer_dir)\n",
    "    model = build_model(transformer)\n",
    "    custom_head = pickle.load(open(os.path.join(transformer_dir,'custom_head.pickle'), 'rb'))\n",
    "    model.get_layer('custom_head').set_weights(custom_head)\n",
    "\n",
    "    return model"
   ]
  },
  {
   "cell_type": "code",
   "execution_count": 12,
   "metadata": {},
   "outputs": [],
   "source": [
    "# model, optimizer_transformer, optimizer_head = create_model_and_optimizer()\n",
    "# save_model(model, transformer_dir='transformer_ptm')"
   ]
  },
  {
   "cell_type": "markdown",
   "metadata": {},
   "source": [
    "# stage 1 :  data distribution for generalization"
   ]
  },
  {
   "cell_type": "code",
   "execution_count": 13,
   "metadata": {},
   "outputs": [
    {
     "data": {
      "text/plain": [
       "((85536, 3), (8000, 4), (63812, 3), (63812, 2))"
      ]
     },
     "execution_count": 13,
     "metadata": {},
     "output_type": "execute_result"
    }
   ],
   "source": [
    "def load_jigsaw_trans(langs=['tr','it','es','ru','fr','pt'], \n",
    "                      columns=['comment_text', 'toxic','id']):\n",
    "    train_6langs=[]\n",
    "    \n",
    "    train1_df = pd.read_csv(D+'jigsaw-toxic-comment-train.csv')\n",
    "    train_6langs.append(train1_df.sort_values(by='id').reset_index(drop=True)[columns])\n",
    "\n",
    "    for i in range(len(langs)):\n",
    "\n",
    "        fn = D_TRANS+'jigsaw-toxic-comment-train-google-%s.csv'%langs[i]\n",
    "        t_t_df = pd.read_csv(fn).sort_values(by='id').reset_index(drop=True)\n",
    "        t_t_df.toxic = t_t_df.toxic.apply(lambda x:eval(x))\n",
    "        train_6langs.append(t_t_df[columns])\n",
    "    \n",
    "    perm_mat = np.zeros((223549,7))\n",
    "    for i in range(223549):\n",
    "        perm_mat[i,:] = np.random.permutation(7)\n",
    "        \n",
    "    train_fold_7 = []\n",
    "    for fold in range(7):\n",
    "        fold_df = []\n",
    "        for idx_df,df in enumerate(train_6langs):\n",
    "            fold_df.append(df.loc[[idx for idx,choice in enumerate(perm_mat[:,fold]) if choice==idx_df]].copy())\n",
    "        fold_df = pd.concat(fold_df).sort_values(by='id').reset_index(drop=True)\n",
    "        \n",
    "        fold_df[~fold_df.toxic.apply(lambda x:isinstance(x,int))] = train_6langs[0][~fold_df.toxic.apply(lambda x:isinstance(x,int))]\n",
    "        \n",
    "        concat_fold_df = [downsample(fold_df.sample(frac=1.0)) for _ in range(2)]\n",
    "\n",
    "    \n",
    "        train_fold_7.append(pd.concat(concat_fold_df))\n",
    "        \n",
    "#     train_6langs.append(pseudo_df[columns])\n",
    "    \n",
    "    return train_fold_7  #pd.concat(train_6langs)#.sample(frac=1.0,random_state=2048)\n",
    "\n",
    "def downsample(df):\n",
    "    \"\"\"Subsample the train dataframe to 50%-50%\"\"\"\n",
    "    ds_df= pd.concat([\n",
    "        df.query('toxic>=0.5'),\n",
    "        df.query('toxic<0.5').sample(df.query('toxic>=0.5').shape[0])\n",
    "    ])\n",
    "    \n",
    "    return ds_df.sample(frac=1.0)\n",
    "    \n",
    "\n",
    "train_7fold_df = load_jigsaw_trans()\n",
    "val_df = pd.read_csv(D+'validation.csv')\n",
    "test_df = pd.read_csv(D+'test.csv')\n",
    "sub_df = pd.read_csv(D+'sample_submission.csv')\n",
    "train_7fold_df[0].shape,val_df.shape,test_df.shape,sub_df.shape"
   ]
  },
  {
   "cell_type": "code",
   "execution_count": 14,
   "metadata": {},
   "outputs": [],
   "source": [
    "# X_val_s2.shape, y_val_s2.shape"
   ]
  },
  {
   "cell_type": "code",
   "execution_count": 15,
   "metadata": {},
   "outputs": [
    {
     "name": "stdout",
     "output_type": "stream",
     "text": [
      "stage2 shape 62\n",
      "train dataset shape 668\n"
     ]
    },
    {
     "name": "stderr",
     "output_type": "stream",
     "text": [
      "training: 0it [00:00, ?it/s]/opt/conda/lib/python3.7/site-packages/tensorflow/python/framework/indexed_slices.py:431: UserWarning: Converting sparse IndexedSlices to a dense Tensor with 256002048 elements. This may consume a large amount of memory.\n",
      "  num_elements)\n",
      "training: 199it [03:25,  2.51it/s]"
     ]
    },
    {
     "name": "stdout",
     "output_type": "stream",
     "text": [
      "Step 200, train AUC: 0.67821  val AUC: 0.90613\n"
     ]
    },
    {
     "name": "stderr",
     "output_type": "stream",
     "text": [
      "training: 200it [04:08, 13.07s/it]"
     ]
    },
    {
     "name": "stdout",
     "output_type": "stream",
     "text": [
      "best model...\n"
     ]
    },
    {
     "name": "stderr",
     "output_type": "stream",
     "text": [
      "training: 399it [05:27,  2.46it/s]"
     ]
    },
    {
     "name": "stdout",
     "output_type": "stream",
     "text": [
      "Step 400, train AUC: 0.94877  val AUC: 0.94380\n"
     ]
    },
    {
     "name": "stderr",
     "output_type": "stream",
     "text": [
      "training: 400it [05:43,  4.98s/it]"
     ]
    },
    {
     "name": "stdout",
     "output_type": "stream",
     "text": [
      "best model...\n"
     ]
    },
    {
     "name": "stderr",
     "output_type": "stream",
     "text": [
      "training: 599it [07:03,  2.41it/s]"
     ]
    },
    {
     "name": "stdout",
     "output_type": "stream",
     "text": [
      "Step 600, train AUC: 0.96596  val AUC: 0.94620\n"
     ]
    },
    {
     "name": "stderr",
     "output_type": "stream",
     "text": [
      "training: 600it [07:18,  4.93s/it]"
     ]
    },
    {
     "name": "stdout",
     "output_type": "stream",
     "text": [
      "best model...\n"
     ]
    },
    {
     "name": "stderr",
     "output_type": "stream",
     "text": [
      "training: 799it [08:47,  1.51it/s]"
     ]
    },
    {
     "name": "stdout",
     "output_type": "stream",
     "text": [
      "Step 800, train AUC: 0.96895  val AUC: 0.94616\n"
     ]
    },
    {
     "name": "stderr",
     "output_type": "stream",
     "text": [
      "\n",
      "training: 9it [00:03,  2.48it/s]"
     ]
    },
    {
     "name": "stdout",
     "output_type": "stream",
     "text": [
      "Step 10, train AUC: 0.94791  val AUC: 0.94664\n"
     ]
    },
    {
     "name": "stderr",
     "output_type": "stream",
     "text": [
      "training: 10it [00:45, 12.81s/it]"
     ]
    },
    {
     "name": "stdout",
     "output_type": "stream",
     "text": [
      "best model...\n"
     ]
    },
    {
     "name": "stderr",
     "output_type": "stream",
     "text": [
      "training: 19it [00:48,  1.11s/it]"
     ]
    },
    {
     "name": "stdout",
     "output_type": "stream",
     "text": [
      "Step 20, train AUC: 0.92249  val AUC: 0.94793\n"
     ]
    },
    {
     "name": "stderr",
     "output_type": "stream",
     "text": [
      "training: 20it [01:04,  5.44s/it]"
     ]
    },
    {
     "name": "stdout",
     "output_type": "stream",
     "text": [
      "best model...\n"
     ]
    },
    {
     "name": "stderr",
     "output_type": "stream",
     "text": [
      "training: 29it [01:07,  1.45it/s]"
     ]
    },
    {
     "name": "stdout",
     "output_type": "stream",
     "text": [
      "Step 30, train AUC: 0.92770  val AUC: 0.95152\n"
     ]
    },
    {
     "name": "stderr",
     "output_type": "stream",
     "text": [
      "training: 30it [01:23,  5.15s/it]"
     ]
    },
    {
     "name": "stdout",
     "output_type": "stream",
     "text": [
      "best model...\n"
     ]
    },
    {
     "name": "stderr",
     "output_type": "stream",
     "text": [
      "training: 39it [01:26,  1.49it/s]"
     ]
    },
    {
     "name": "stdout",
     "output_type": "stream",
     "text": [
      "Step 40, train AUC: 0.94216  val AUC: 0.95323\n"
     ]
    },
    {
     "name": "stderr",
     "output_type": "stream",
     "text": [
      "training: 40it [01:41,  5.01s/it]"
     ]
    },
    {
     "name": "stdout",
     "output_type": "stream",
     "text": [
      "best model...\n"
     ]
    },
    {
     "name": "stderr",
     "output_type": "stream",
     "text": [
      "training: 49it [01:44,  1.51it/s]"
     ]
    },
    {
     "name": "stdout",
     "output_type": "stream",
     "text": [
      "Step 50, train AUC: 0.92980  val AUC: 0.95555\n"
     ]
    },
    {
     "name": "stderr",
     "output_type": "stream",
     "text": [
      "training: 50it [01:59,  5.00s/it]"
     ]
    },
    {
     "name": "stdout",
     "output_type": "stream",
     "text": [
      "best model...\n"
     ]
    },
    {
     "name": "stderr",
     "output_type": "stream",
     "text": [
      "training: 59it [02:03,  1.51it/s]"
     ]
    },
    {
     "name": "stdout",
     "output_type": "stream",
     "text": [
      "Step 60, train AUC: 0.93844  val AUC: 0.95772\n"
     ]
    },
    {
     "name": "stderr",
     "output_type": "stream",
     "text": [
      "training: 60it [02:18,  5.06s/it]"
     ]
    },
    {
     "name": "stdout",
     "output_type": "stream",
     "text": [
      "best model...\n"
     ]
    },
    {
     "name": "stderr",
     "output_type": "stream",
     "text": [
      "training: 69it [02:21,  1.49it/s]"
     ]
    },
    {
     "name": "stdout",
     "output_type": "stream",
     "text": [
      "Step 70, train AUC: 0.95322  val AUC: 0.95861\n"
     ]
    },
    {
     "name": "stderr",
     "output_type": "stream",
     "text": [
      "training: 70it [02:38,  5.58s/it]"
     ]
    },
    {
     "name": "stdout",
     "output_type": "stream",
     "text": [
      "best model...\n"
     ]
    },
    {
     "name": "stderr",
     "output_type": "stream",
     "text": [
      "training: 79it [02:42,  1.42it/s]"
     ]
    },
    {
     "name": "stdout",
     "output_type": "stream",
     "text": [
      "Step 80, train AUC: 0.94256  val AUC: 0.95895\n"
     ]
    },
    {
     "name": "stderr",
     "output_type": "stream",
     "text": [
      "training: 80it [03:00,  6.04s/it]"
     ]
    },
    {
     "name": "stdout",
     "output_type": "stream",
     "text": [
      "best model...\n"
     ]
    },
    {
     "name": "stderr",
     "output_type": "stream",
     "text": [
      "training: 89it [03:04,  1.36it/s]"
     ]
    },
    {
     "name": "stdout",
     "output_type": "stream",
     "text": [
      "Step 90, train AUC: 0.94779  val AUC: 0.95946\n"
     ]
    },
    {
     "name": "stderr",
     "output_type": "stream",
     "text": [
      "training: 90it [03:19,  5.21s/it]"
     ]
    },
    {
     "name": "stdout",
     "output_type": "stream",
     "text": [
      "best model...\n"
     ]
    },
    {
     "name": "stderr",
     "output_type": "stream",
     "text": [
      "training: 99it [03:23,  1.47it/s]"
     ]
    },
    {
     "name": "stdout",
     "output_type": "stream",
     "text": [
      "Step 100, train AUC: 0.95130  val AUC: 0.95956\n"
     ]
    },
    {
     "name": "stderr",
     "output_type": "stream",
     "text": [
      "training: 99it [03:38,  2.21s/it]"
     ]
    },
    {
     "name": "stdout",
     "output_type": "stream",
     "text": [
      "best model...\n"
     ]
    },
    {
     "name": "stderr",
     "output_type": "stream",
     "text": [
      "\n"
     ]
    },
    {
     "name": "stdout",
     "output_type": "stream",
     "text": [
      "train dataset shape 668\n"
     ]
    },
    {
     "name": "stderr",
     "output_type": "stream",
     "text": [
      "training: 0it [00:00, ?it/s]/opt/conda/lib/python3.7/site-packages/tensorflow/python/framework/indexed_slices.py:431: UserWarning: Converting sparse IndexedSlices to a dense Tensor with 256002048 elements. This may consume a large amount of memory.\n",
      "  num_elements)\n",
      "training: 199it [03:24,  2.49it/s]"
     ]
    },
    {
     "name": "stdout",
     "output_type": "stream",
     "text": [
      "Step 200, train AUC: 0.69737  val AUC: 0.93483\n"
     ]
    },
    {
     "name": "stderr",
     "output_type": "stream",
     "text": [
      "training: 200it [04:06, 12.97s/it]"
     ]
    },
    {
     "name": "stdout",
     "output_type": "stream",
     "text": [
      "best model...\n"
     ]
    },
    {
     "name": "stderr",
     "output_type": "stream",
     "text": [
      "training: 399it [05:26,  2.50it/s]"
     ]
    },
    {
     "name": "stdout",
     "output_type": "stream",
     "text": [
      "Step 400, train AUC: 0.95086  val AUC: 0.94343\n"
     ]
    },
    {
     "name": "stderr",
     "output_type": "stream",
     "text": [
      "training: 400it [05:41,  4.84s/it]"
     ]
    },
    {
     "name": "stdout",
     "output_type": "stream",
     "text": [
      "best model...\n"
     ]
    },
    {
     "name": "stderr",
     "output_type": "stream",
     "text": [
      "training: 599it [07:01,  2.48it/s]"
     ]
    },
    {
     "name": "stdout",
     "output_type": "stream",
     "text": [
      "Step 600, train AUC: 0.96346  val AUC: 0.94350\n"
     ]
    },
    {
     "name": "stderr",
     "output_type": "stream",
     "text": [
      "training: 600it [07:16,  4.87s/it]"
     ]
    },
    {
     "name": "stdout",
     "output_type": "stream",
     "text": [
      "best model...\n"
     ]
    },
    {
     "name": "stderr",
     "output_type": "stream",
     "text": [
      "training: 799it [08:36,  2.50it/s]"
     ]
    },
    {
     "name": "stdout",
     "output_type": "stream",
     "text": [
      "Step 800, train AUC: 0.96820  val AUC: 0.94502\n"
     ]
    },
    {
     "name": "stderr",
     "output_type": "stream",
     "text": [
      "training: 799it [08:52,  1.50it/s]"
     ]
    },
    {
     "name": "stdout",
     "output_type": "stream",
     "text": [
      "best model...\n"
     ]
    },
    {
     "name": "stderr",
     "output_type": "stream",
     "text": [
      "\n",
      "training: 9it [00:03,  2.47it/s]"
     ]
    },
    {
     "name": "stdout",
     "output_type": "stream",
     "text": [
      "Step 10, train AUC: 0.92976  val AUC: 0.94570\n"
     ]
    },
    {
     "name": "stderr",
     "output_type": "stream",
     "text": [
      "training: 10it [00:46, 13.10s/it]"
     ]
    },
    {
     "name": "stdout",
     "output_type": "stream",
     "text": [
      "best model...\n"
     ]
    },
    {
     "name": "stderr",
     "output_type": "stream",
     "text": [
      "training: 19it [00:49,  1.14s/it]"
     ]
    },
    {
     "name": "stdout",
     "output_type": "stream",
     "text": [
      "Step 20, train AUC: 0.92463  val AUC: 0.94675\n"
     ]
    },
    {
     "name": "stderr",
     "output_type": "stream",
     "text": [
      "training: 20it [01:05,  5.56s/it]"
     ]
    },
    {
     "name": "stdout",
     "output_type": "stream",
     "text": [
      "best model...\n"
     ]
    },
    {
     "name": "stderr",
     "output_type": "stream",
     "text": [
      "training: 29it [01:08,  1.44it/s]"
     ]
    },
    {
     "name": "stdout",
     "output_type": "stream",
     "text": [
      "Step 30, train AUC: 0.93741  val AUC: 0.95033\n"
     ]
    },
    {
     "name": "stderr",
     "output_type": "stream",
     "text": [
      "training: 30it [01:24,  5.17s/it]"
     ]
    },
    {
     "name": "stdout",
     "output_type": "stream",
     "text": [
      "best model...\n"
     ]
    },
    {
     "name": "stderr",
     "output_type": "stream",
     "text": [
      "training: 39it [01:27,  1.49it/s]"
     ]
    },
    {
     "name": "stdout",
     "output_type": "stream",
     "text": [
      "Step 40, train AUC: 0.93045  val AUC: 0.95185\n"
     ]
    },
    {
     "name": "stderr",
     "output_type": "stream",
     "text": [
      "training: 40it [01:43,  5.27s/it]"
     ]
    },
    {
     "name": "stdout",
     "output_type": "stream",
     "text": [
      "best model...\n"
     ]
    },
    {
     "name": "stderr",
     "output_type": "stream",
     "text": [
      "training: 50it [01:56,  3.43s/it]"
     ]
    },
    {
     "name": "stdout",
     "output_type": "stream",
     "text": [
      "Step 50, train AUC: 0.93128  val AUC: 0.95160\n"
     ]
    },
    {
     "name": "stderr",
     "output_type": "stream",
     "text": [
      "training: 59it [02:00,  1.75it/s]"
     ]
    },
    {
     "name": "stdout",
     "output_type": "stream",
     "text": [
      "Step 60, train AUC: 0.94660  val AUC: 0.95485\n"
     ]
    },
    {
     "name": "stderr",
     "output_type": "stream",
     "text": [
      "training: 60it [02:15,  5.00s/it]"
     ]
    },
    {
     "name": "stdout",
     "output_type": "stream",
     "text": [
      "best model...\n"
     ]
    },
    {
     "name": "stderr",
     "output_type": "stream",
     "text": [
      "training: 69it [02:18,  1.51it/s]"
     ]
    },
    {
     "name": "stdout",
     "output_type": "stream",
     "text": [
      "Step 70, train AUC: 0.95406  val AUC: 0.95603\n"
     ]
    },
    {
     "name": "stderr",
     "output_type": "stream",
     "text": [
      "training: 70it [02:34,  5.07s/it]"
     ]
    },
    {
     "name": "stdout",
     "output_type": "stream",
     "text": [
      "best model...\n"
     ]
    },
    {
     "name": "stderr",
     "output_type": "stream",
     "text": [
      "training: 79it [02:37,  1.50it/s]"
     ]
    },
    {
     "name": "stdout",
     "output_type": "stream",
     "text": [
      "Step 80, train AUC: 0.95020  val AUC: 0.95638\n"
     ]
    },
    {
     "name": "stderr",
     "output_type": "stream",
     "text": [
      "training: 80it [02:52,  5.04s/it]"
     ]
    },
    {
     "name": "stdout",
     "output_type": "stream",
     "text": [
      "best model...\n"
     ]
    },
    {
     "name": "stderr",
     "output_type": "stream",
     "text": [
      "training: 89it [02:55,  1.51it/s]"
     ]
    },
    {
     "name": "stdout",
     "output_type": "stream",
     "text": [
      "Step 90, train AUC: 0.94318  val AUC: 0.95705\n"
     ]
    },
    {
     "name": "stderr",
     "output_type": "stream",
     "text": [
      "training: 90it [03:11,  5.03s/it]"
     ]
    },
    {
     "name": "stdout",
     "output_type": "stream",
     "text": [
      "best model...\n"
     ]
    },
    {
     "name": "stderr",
     "output_type": "stream",
     "text": [
      "training: 99it [03:14,  1.51it/s]"
     ]
    },
    {
     "name": "stdout",
     "output_type": "stream",
     "text": [
      "Step 100, train AUC: 0.94189  val AUC: 0.95709\n"
     ]
    },
    {
     "name": "stderr",
     "output_type": "stream",
     "text": [
      "training: 99it [03:30,  2.13s/it]"
     ]
    },
    {
     "name": "stdout",
     "output_type": "stream",
     "text": [
      "best model...\n"
     ]
    },
    {
     "name": "stderr",
     "output_type": "stream",
     "text": [
      "\n"
     ]
    },
    {
     "name": "stdout",
     "output_type": "stream",
     "text": [
      "train dataset shape 668\n"
     ]
    },
    {
     "name": "stderr",
     "output_type": "stream",
     "text": [
      "training: 0it [00:00, ?it/s]/opt/conda/lib/python3.7/site-packages/tensorflow/python/framework/indexed_slices.py:431: UserWarning: Converting sparse IndexedSlices to a dense Tensor with 256002048 elements. This may consume a large amount of memory.\n",
      "  num_elements)\n",
      "training: 199it [03:23,  2.51it/s]"
     ]
    },
    {
     "name": "stdout",
     "output_type": "stream",
     "text": [
      "Step 200, train AUC: 0.62247  val AUC: 0.87188\n"
     ]
    },
    {
     "name": "stderr",
     "output_type": "stream",
     "text": [
      "training: 200it [04:05, 12.69s/it]"
     ]
    },
    {
     "name": "stdout",
     "output_type": "stream",
     "text": [
      "best model...\n"
     ]
    },
    {
     "name": "stderr",
     "output_type": "stream",
     "text": [
      "training: 399it [05:24,  2.52it/s]"
     ]
    },
    {
     "name": "stdout",
     "output_type": "stream",
     "text": [
      "Step 400, train AUC: 0.93954  val AUC: 0.94255\n"
     ]
    },
    {
     "name": "stderr",
     "output_type": "stream",
     "text": [
      "training: 400it [05:39,  4.76s/it]"
     ]
    },
    {
     "name": "stdout",
     "output_type": "stream",
     "text": [
      "best model...\n"
     ]
    },
    {
     "name": "stderr",
     "output_type": "stream",
     "text": [
      "training: 599it [06:59,  2.49it/s]"
     ]
    },
    {
     "name": "stdout",
     "output_type": "stream",
     "text": [
      "Step 600, train AUC: 0.96480  val AUC: 0.94337\n"
     ]
    },
    {
     "name": "stderr",
     "output_type": "stream",
     "text": [
      "training: 600it [07:14,  4.99s/it]"
     ]
    },
    {
     "name": "stdout",
     "output_type": "stream",
     "text": [
      "best model...\n"
     ]
    },
    {
     "name": "stderr",
     "output_type": "stream",
     "text": [
      "training: 799it [08:44,  1.52it/s]"
     ]
    },
    {
     "name": "stdout",
     "output_type": "stream",
     "text": [
      "Step 800, train AUC: 0.96764  val AUC: 0.94285\n"
     ]
    },
    {
     "name": "stderr",
     "output_type": "stream",
     "text": [
      "\n",
      "training: 9it [00:03,  2.50it/s]"
     ]
    },
    {
     "name": "stdout",
     "output_type": "stream",
     "text": [
      "Step 10, train AUC: 0.92036  val AUC: 0.94467\n"
     ]
    },
    {
     "name": "stderr",
     "output_type": "stream",
     "text": [
      "training: 10it [00:45, 12.76s/it]"
     ]
    },
    {
     "name": "stdout",
     "output_type": "stream",
     "text": [
      "best model...\n"
     ]
    },
    {
     "name": "stderr",
     "output_type": "stream",
     "text": [
      "training: 19it [00:48,  1.11s/it]"
     ]
    },
    {
     "name": "stdout",
     "output_type": "stream",
     "text": [
      "Step 20, train AUC: 0.92643  val AUC: 0.94501\n"
     ]
    },
    {
     "name": "stderr",
     "output_type": "stream",
     "text": [
      "training: 20it [01:04,  5.47s/it]"
     ]
    },
    {
     "name": "stdout",
     "output_type": "stream",
     "text": [
      "best model...\n"
     ]
    },
    {
     "name": "stderr",
     "output_type": "stream",
     "text": [
      "training: 29it [01:07,  1.45it/s]"
     ]
    },
    {
     "name": "stdout",
     "output_type": "stream",
     "text": [
      "Step 30, train AUC: 0.92053  val AUC: 0.94807\n"
     ]
    },
    {
     "name": "stderr",
     "output_type": "stream",
     "text": [
      "training: 30it [01:22,  5.04s/it]"
     ]
    },
    {
     "name": "stdout",
     "output_type": "stream",
     "text": [
      "best model...\n"
     ]
    },
    {
     "name": "stderr",
     "output_type": "stream",
     "text": [
      "training: 39it [01:25,  1.51it/s]"
     ]
    },
    {
     "name": "stdout",
     "output_type": "stream",
     "text": [
      "Step 40, train AUC: 0.92992  val AUC: 0.95005\n"
     ]
    },
    {
     "name": "stderr",
     "output_type": "stream",
     "text": [
      "training: 40it [01:40,  4.99s/it]"
     ]
    },
    {
     "name": "stdout",
     "output_type": "stream",
     "text": [
      "best model...\n"
     ]
    },
    {
     "name": "stderr",
     "output_type": "stream",
     "text": [
      "training: 49it [01:44,  1.52it/s]"
     ]
    },
    {
     "name": "stdout",
     "output_type": "stream",
     "text": [
      "Step 50, train AUC: 0.93955  val AUC: 0.95314\n"
     ]
    },
    {
     "name": "stderr",
     "output_type": "stream",
     "text": [
      "training: 50it [01:59,  4.99s/it]"
     ]
    },
    {
     "name": "stdout",
     "output_type": "stream",
     "text": [
      "best model...\n"
     ]
    },
    {
     "name": "stderr",
     "output_type": "stream",
     "text": [
      "training: 59it [02:02,  1.51it/s]"
     ]
    },
    {
     "name": "stdout",
     "output_type": "stream",
     "text": [
      "Step 60, train AUC: 0.93695  val AUC: 0.95430\n"
     ]
    },
    {
     "name": "stderr",
     "output_type": "stream",
     "text": [
      "training: 60it [02:17,  5.09s/it]"
     ]
    },
    {
     "name": "stdout",
     "output_type": "stream",
     "text": [
      "best model...\n"
     ]
    },
    {
     "name": "stderr",
     "output_type": "stream",
     "text": [
      "training: 69it [02:21,  1.49it/s]"
     ]
    },
    {
     "name": "stdout",
     "output_type": "stream",
     "text": [
      "Step 70, train AUC: 0.94185  val AUC: 0.95626\n"
     ]
    },
    {
     "name": "stderr",
     "output_type": "stream",
     "text": [
      "training: 70it [02:36,  5.04s/it]"
     ]
    },
    {
     "name": "stdout",
     "output_type": "stream",
     "text": [
      "best model...\n"
     ]
    },
    {
     "name": "stderr",
     "output_type": "stream",
     "text": [
      "training: 79it [02:39,  1.51it/s]"
     ]
    },
    {
     "name": "stdout",
     "output_type": "stream",
     "text": [
      "Step 80, train AUC: 0.95043  val AUC: 0.95717\n"
     ]
    },
    {
     "name": "stderr",
     "output_type": "stream",
     "text": [
      "training: 80it [02:55,  5.03s/it]"
     ]
    },
    {
     "name": "stdout",
     "output_type": "stream",
     "text": [
      "best model...\n"
     ]
    },
    {
     "name": "stderr",
     "output_type": "stream",
     "text": [
      "training: 89it [02:58,  1.51it/s]"
     ]
    },
    {
     "name": "stdout",
     "output_type": "stream",
     "text": [
      "Step 90, train AUC: 0.93523  val AUC: 0.95772\n"
     ]
    },
    {
     "name": "stderr",
     "output_type": "stream",
     "text": [
      "training: 90it [03:13,  5.03s/it]"
     ]
    },
    {
     "name": "stdout",
     "output_type": "stream",
     "text": [
      "best model...\n"
     ]
    },
    {
     "name": "stderr",
     "output_type": "stream",
     "text": [
      "training: 99it [03:16,  1.51it/s]"
     ]
    },
    {
     "name": "stdout",
     "output_type": "stream",
     "text": [
      "Step 100, train AUC: 0.94355  val AUC: 0.95794\n"
     ]
    },
    {
     "name": "stderr",
     "output_type": "stream",
     "text": [
      "training: 99it [03:32,  2.14s/it]"
     ]
    },
    {
     "name": "stdout",
     "output_type": "stream",
     "text": [
      "best model...\n"
     ]
    },
    {
     "name": "stderr",
     "output_type": "stream",
     "text": [
      "\n"
     ]
    },
    {
     "name": "stdout",
     "output_type": "stream",
     "text": [
      "CPU times: user 20min 8s, sys: 6min 39s, total: 26min 48s\n",
      "Wall time: 54min 27s\n"
     ]
    }
   ],
   "source": [
    "%%time\n",
    "TOTAL_STEPS_STAGE1 = 800\n",
    "VALIDATE_EVERY_STAGE1 = 200\n",
    "TOTAL_STEPS_STAGE2 = 200\n",
    "VALIDATE_EVERY_STAGE2 = 10\n",
    "\n",
    "tokenizer = AutoTokenizer.from_pretrained(PRETRAINED_TOKENIZER)\n",
    "X_val = regular_encode(val_df.comment_text.values, tokenizer, maxlen=MAX_LEN)\n",
    "X_test = regular_encode(test_df.content.values, tokenizer, maxlen=MAX_LEN)\n",
    "y_val = val_df.toxic.values.reshape(-1,1).astype('int64')\n",
    "\n",
    "\n",
    "# s2 data\n",
    "X_train_s2 = regular_encode(val_df.comment_text.values, tokenizer, maxlen=MAX_LEN)\n",
    "y_train_s2 = val_df.toxic.values.reshape(-1,1)\n",
    "\n",
    "val_s2_df = pd.read_csv('/kaggle/input/jigsaw-multilingual-toxic-comment-classification/jigsaw-toxic-comment-train.csv')\n",
    "val_s2_df = val_s2_df.sample(len(X_train_s2),random_state=2020)\n",
    "\n",
    "X_val_s2 = regular_encode(val_s2_df.comment_text.values, tokenizer, maxlen=MAX_LEN)\n",
    "y_val_s2 = val_s2_df.toxic.values.reshape(-1,1)\n",
    "\n",
    "print('stage2 shape {}'.format(len(X_train_s2)//global_batch_size))\n",
    "gc.collect()\n",
    "\n",
    "# Train_class_list = []\n",
    "\n",
    "preds = []\n",
    "\n",
    "for fold in range(4,7):\n",
    "    K.clear_session()\n",
    "    tf.tpu.experimental.initialize_tpu_system(tpu)\n",
    "    \n",
    "    X_train = regular_encode(train_7fold_df[fold].comment_text.values, tokenizer, maxlen=MAX_LEN)\n",
    "\n",
    "    y_train = train_7fold_df[fold].toxic.values.reshape(-1,1).astype('int64')\n",
    "    \n",
    "    train_dist_dataset = create_dist_dataset(X_train, y_train, True)\n",
    "    val_dist_dataset   = create_dist_dataset(X_val)\n",
    "    test_dist_dataset  = create_dist_dataset(X_test)\n",
    "\n",
    "    print('train dataset shape {}'.format(len(X_train)//global_batch_size))\n",
    "\n",
    "    model, optimizer_transformer, optimizer_head = create_model_and_optimizer()\n",
    "    compute_loss, train_accuracy_metric = define_losses_and_metrics()\n",
    "\n",
    "    Train_class = train(train_dist_dataset=train_dist_dataset, \n",
    "                      val_dist_dataset=val_dist_dataset, \n",
    "                      y_val=y_val,\n",
    "                      total_steps=TOTAL_STEPS_STAGE1, \n",
    "                      validate_every=VALIDATE_EVERY_STAGE1,\n",
    "                      model=model, \n",
    "                      optimizer_transformer=optimizer_transformer, \n",
    "                      optimizer_head=optimizer_head, \n",
    "                      compute_loss=compute_loss, \n",
    "                      train_accuracy_metric=train_accuracy_metric,\n",
    "                      dir_name=f'transformer_ptm_fold_{fold}',\n",
    "                     )\n",
    "    # stage2 --\n",
    "    TOTAL_STEPS_STAGE2 = 100\n",
    "    VALIDATE_EVERY_STAGE2 = 10\n",
    "\n",
    "    # make a datasets\n",
    "    train_dist_dataset_s2 = create_dist_dataset(X_train_s2, y_train_s2, training=True)\n",
    "    train_dist_dataset_s21 = create_dist_dataset(X_train_s2, y_train_s2)\n",
    "    val_dist_dataset_s2 = create_dist_dataset(X_val_s2, y_val_s2)\n",
    "\n",
    "    # train again\n",
    "    Train_class.do_train(train_dist_dataset_s2, train_dist_dataset_s21, y_train_s2,\n",
    "                          total_steps = TOTAL_STEPS_STAGE2, \n",
    "                          validate_every = VALIDATE_EVERY_STAGE2)\n",
    "    \n",
    "    \n",
    "    preds.append(Train_class.predict(test_dist_dataset)[:,0])\n",
    "    \n",
    "    \n",
    "#     val_df['toxic'] = Train_class.predict(val_dist_dataset)[:,0]\n",
    "#     test_df['toxic'] = Train_class.predict(test_dist_dataset)[:,0]\n",
    "#     val_df.to_csv(f'pseudo_val_fold{fold}.csv', index=False);\n",
    "#     test_df.to_csv(f'pseudo_test_fold{fold}.csv', index=False);\n",
    "    del X_train,y_train,train_dist_dataset,val_dist_dataset,test_dist_dataset\n",
    "    del model,optimizer_transformer,optimizer_head,compute_loss,train_accuracy_metric\n",
    "    gc.collect()"
   ]
  },
  {
   "cell_type": "markdown",
   "metadata": {},
   "source": [
    "# stage 2 : pseudo label"
   ]
  },
  {
   "cell_type": "code",
   "execution_count": 16,
   "metadata": {},
   "outputs": [],
   "source": [
    "# %%time\n",
    "# val_df['toxic'] = predict(val_dist_dataset)[:,0]\n",
    "# test_df['toxic'] = predict(test_dist_dataset)[:,0]\n",
    "# val_df.to_csv('pseudo_val.csv', index=False);\n",
    "# test_df.to_csv('pseudo_test.csv', index=False);\n",
    "# val_df.columns,sub_df.columns,test_df.columns"
   ]
  },
  {
   "cell_type": "code",
   "execution_count": 17,
   "metadata": {},
   "outputs": [],
   "source": [
    "# pseudo_test_df = pd.read_csv('/kaggle/input/jigsaw-tpu2-dataset/pseudo_test_fold1.csv')\n",
    "# t_t2 = pd.read_csv('/kaggle/input/jigsaw-tpu2-dataset/pseudo_test_fold0.csv')['toxic']\n",
    "# pseudo_test_df['toxic'] = (pseudo_test_df['toxic']+t_t2)/2\n",
    "# pseudo_test_df['comment_text'] = pseudo_test_df['content']\n",
    "\n",
    "# pseudo_val_df = pd.read_csv('/kaggle/input/jigsaw-tpu2-dataset/pseudo_val_fold1.csv')\n",
    "# t_t2 = pd.read_csv('/kaggle/input/jigsaw-tpu2-dataset/pseudo_val_fold0.csv')['toxic']\n",
    "# pseudo_val_df['toxic'] = (pseudo_val_df['toxic']+t_t2)/2\n",
    "\n",
    "# # /kaggle/input/jigsaw-tpu2/transformer_ptm_fold_0/tf_model.h5\n",
    "# # /kaggle/input/jigsaw-tpu2/transformer_ptm_fold_0/config.json\n",
    "# # /kaggle/input/jigsaw-tpu2/transformer_ptm_fold_0/custom_head.pickle\n",
    "# # /kaggle/input/jigsaw-tpu2/transformer_ptm_fold_1/tf_model.h5\n",
    "# # /kaggle/input/jigsaw-tpu2/transformer_ptm_fold_1/config.json\n",
    "# # /kaggle/input/jigsaw-tpu2/transformer_ptm_fold_1/custom_head.pickle"
   ]
  },
  {
   "cell_type": "code",
   "execution_count": 18,
   "metadata": {},
   "outputs": [],
   "source": [
    "# def load_jigsaw_trans(langs=['tr','it','es','ru','fr','pt'], \n",
    "#                       columns=['comment_text', 'toxic','id']):\n",
    "#     train_6langs=[]\n",
    "    \n",
    "#     train1_df = pd.read_csv(D+'jigsaw-toxic-comment-train.csv')\n",
    "#     train_6langs.append(train1_df.sort_values(by='id').reset_index(drop=True)[columns])\n",
    "\n",
    "#     for i in range(len(langs)):\n",
    "\n",
    "#         fn = D_TRANS+'jigsaw-toxic-comment-train-google-%s.csv'%langs[i]\n",
    "#         t_t_df = pd.read_csv(fn).sort_values(by='id').reset_index(drop=True)\n",
    "#         t_t_df.toxic = t_t_df.toxic.apply(lambda x:eval(x))\n",
    "#         train_6langs.append(t_t_df[columns])\n",
    "    \n",
    "#     perm_mat = np.zeros((223549,7))\n",
    "#     for i in range(223549):\n",
    "#         perm_mat[i,:] = np.random.permutation(7)\n",
    "        \n",
    "#     train_fold_7 = []\n",
    "#     for fold in range(7):\n",
    "#         fold_df = []\n",
    "#         for idx_df,df in enumerate(train_6langs):\n",
    "#             fold_df.append(df.loc[[idx for idx,choice in enumerate(perm_mat[:,fold]) if choice==idx_df]].copy())\n",
    "#         fold_df = pd.concat(fold_df).sort_values(by='id').reset_index(drop=True)\n",
    "        \n",
    "#         fold_df[~fold_df.toxic.apply(lambda x:isinstance(x,int))] = train_6langs[0][~fold_df.toxic.apply(lambda x:isinstance(x,int))]\n",
    "        \n",
    "#         concat_fold_df = [downsample(fold_df.sample(frac=1.0)) for _ in range(2)]\n",
    "        \n",
    "# #         pseudo_path = f'/kaggle/input/jigsaw-tpu2/pseudo_test_fold{fold}.csv'\n",
    "# #         if os.path.exists(pseudo_path):\n",
    "# #             pseudo_test_df = pd.read_csv(f'/kaggle/input/jigsaw-tpu2/pseudo_test_fold{fold}.csv')\n",
    "# #             pseudo_val_df = pd.read_csv(f'/kaggle/input/jigsaw-tpu2/pseudo_val_fold{fold}.csv')\n",
    "# #             pseudo_test_df['comment_text'] = pseudo_test_df['content']\n",
    "        \n",
    "# #             concat_fold_df.append(downsample(pseudo_val_df.sample(frac=1.0)))\n",
    "# #             concat_fold_df.append(downsample(pseudo_test_df.sample(frac=1.0)))\n",
    "        \n",
    "#         concat_fold_df.append(downsample(pseudo_val_df.sample(frac=1.0)))\n",
    "#         concat_fold_df.append(downsample(pseudo_test_df.sample(frac=0.8)))\n",
    "        \n",
    "#         train_fold_7.append(pd.concat(concat_fold_df).sample(frac=1.0))\n",
    "        \n",
    "# #     train_6langs.append(pseudo_df[columns])\n",
    "    \n",
    "#     return train_fold_7  #pd.concat(train_6langs)#.sample(frac=1.0,random_state=2048)\n",
    "\n",
    "# def downsample(df):\n",
    "#     \"\"\"Subsample the train dataframe to 50%-50%\"\"\"\n",
    "#     ds_df= pd.concat([\n",
    "#         df.query('toxic>=0.5'),\n",
    "#         df.query('toxic<0.5').sample(df.query('toxic>=0.5').shape[0])\n",
    "#     ])\n",
    "    \n",
    "#     return ds_df.sample(frac=1.0)\n",
    "    \n",
    "\n",
    "# train_7fold_df = load_jigsaw_trans()\n",
    "# val_df = pd.read_csv(D+'validation.csv')\n",
    "# test_df = pd.read_csv(D+'test.csv')\n",
    "# sub_df = pd.read_csv(D+'sample_submission.csv')\n",
    "# train_7fold_df[0].shape,val_df.shape,test_df.shape,sub_df.shape"
   ]
  },
  {
   "cell_type": "code",
   "execution_count": 19,
   "metadata": {},
   "outputs": [],
   "source": [
    "# %%time\n",
    "# TOTAL_STEPS_STAGE1 = 800\n",
    "# VALIDATE_EVERY_STAGE1 = 200\n",
    "# TOTAL_STEPS_STAGE2 = 200\n",
    "# VALIDATE_EVERY_STAGE2 = 10\n",
    "\n",
    "# tokenizer = AutoTokenizer.from_pretrained(PRETRAINED_TOKENIZER)\n",
    "# X_val = regular_encode(val_df.comment_text.values, tokenizer, maxlen=MAX_LEN)\n",
    "# X_test = regular_encode(test_df.content.values, tokenizer, maxlen=MAX_LEN)\n",
    "# y_val = val_df.toxic.values.reshape(-1,1).astype('int64')\n",
    "\n",
    "# Train_class_list = []\n",
    "# for fold in range(3):\n",
    "#     K.clear_session()\n",
    "#     tf.tpu.experimental.initialize_tpu_system(tpu)\n",
    "    \n",
    "#     X_train = regular_encode(train_7fold_df[fold].comment_text.values, tokenizer, maxlen=MAX_LEN)\n",
    "\n",
    "#     y_train = train_7fold_df[fold].toxic.values.reshape(-1,1).astype('int64')\n",
    "    \n",
    "#     train_dist_dataset = create_dist_dataset(X_train, y_train, True)\n",
    "#     val_dist_dataset   = create_dist_dataset(X_val)\n",
    "#     test_dist_dataset  = create_dist_dataset(X_test)\n",
    "\n",
    "#     print('train dataset shape {}'.format(len(X_train)//global_batch_size))\n",
    "\n",
    "    \n",
    "#     model_path = f'/kaggle/input/jigsaw-tpu2/transformer_ptm_fold_{fold}'\n",
    "#     if os.path.exists(model_path):\n",
    "#         with strategy.scope():\n",
    "#             model = load_model(model_path)\n",
    "#             optimizer_transformer = Adam(learning_rate=LR_TRANSFORMER)\n",
    "#             optimizer_head = Adam(learning_rate=LR_HEAD)\n",
    "#     else:\n",
    "#         model, optimizer_transformer, optimizer_head = create_model_and_optimizer()\n",
    "        \n",
    "#     compute_loss, train_accuracy_metric = define_losses_and_metrics()\n",
    "\n",
    "#     Train_class_list.append(\n",
    "#         train(train_dist_dataset=train_dist_dataset, \n",
    "#                       val_dist_dataset=val_dist_dataset, \n",
    "#                       y_val=y_val,\n",
    "#                       total_steps=TOTAL_STEPS_STAGE1, \n",
    "#                       validate_every=VALIDATE_EVERY_STAGE1,\n",
    "#                       model=model, \n",
    "#                       optimizer_transformer=optimizer_transformer, \n",
    "#                       optimizer_head=optimizer_head, \n",
    "#                       compute_loss=compute_loss, \n",
    "#                       train_accuracy_metric=train_accuracy_metric,\n",
    "#                       dir_name=f'transformer_ptm_fold_{fold}',\n",
    "#                      ))\n",
    "# #     train(train_dist_dataset, val_dist_dataset, y_val,\n",
    "# #           TOTAL_STEPS_STAGE1, VALIDATE_EVERY_STAGE1, dir_name=f'transformer_ptm_fold_{fold}')\n",
    "    \n",
    "# #     val_df['toxic'] = Train_class.predict(val_dist_dataset)[:,0]\n",
    "# #     test_df['toxic'] = Train_class.predict(test_dist_dataset)[:,0]\n",
    "# #     val_df.to_csv(f'pseudo_val_fold{fold}.csv', index=False);\n",
    "# #     test_df.to_csv(f'pseudo_test_fold{fold}.csv', index=False);\n",
    "#     del X_train, y_train, train_dist_dataset, val_dist_dataset, test_dist_dataset\n",
    "#     gc.collect()\n",
    "# #     del model,optimizer_transformer,optimizer_head,compute_loss,train_accuracy_metric"
   ]
  },
  {
   "cell_type": "markdown",
   "metadata": {
    "_cell_guid": "a280adb2-4463-4ad4-8f4a-22bc43292d82",
    "_uuid": "803c2d73-e750-4189-aa53-db248fc25ea7"
   },
   "source": [
    "# stage3: finetune in val data"
   ]
  },
  {
   "cell_type": "code",
   "execution_count": 20,
   "metadata": {},
   "outputs": [],
   "source": [
    "# TOTAL_STEPS_STAGE2 = 100\n",
    "# VALIDATE_EVERY_STAGE2 = 10\n",
    "\n",
    "# # make a datasets\n",
    "# train_dist_dataset = create_dist_dataset(X_train_s2, y_train_s2, training=True)\n",
    "# train_dist_dataset1 = create_dist_dataset(X_train_s2, y_train_s2)\n",
    "# val_dist_dataset = create_dist_dataset(X_val_s2, y_val_s2)\n",
    "\n",
    "# # train again\n",
    "# for Train_class in Train_class_list:\n",
    "#     Train_class.do_train(train_dist_dataset, train_dist_dataset1, y_train_s2,\n",
    "#                           total_steps = TOTAL_STEPS_STAGE2, \n",
    "#                           validate_every = VALIDATE_EVERY_STAGE2)  # not validating but printing now\n",
    "# gc.collect()"
   ]
  },
  {
   "cell_type": "markdown",
   "metadata": {
    "_cell_guid": "e8be7da4-a25f-482c-88fa-c9b87a8a5f1e",
    "_uuid": "62874aa9-54a8-495b-a2a9-ac726c6dbecf"
   },
   "source": [
    "## Make predictions and submission"
   ]
  },
  {
   "cell_type": "code",
   "execution_count": 21,
   "metadata": {
    "_cell_guid": "96a7be93-0dce-4d00-92c4-d4c4cb2238f8",
    "_uuid": "5cd548e4-5756-4d92-b72c-f71cb72b395d"
   },
   "outputs": [
    {
     "name": "stdout",
     "output_type": "stream",
     "text": [
      "CPU times: user 340 ms, sys: 32.2 ms, total: 372 ms\n",
      "Wall time: 692 ms\n"
     ]
    }
   ],
   "source": [
    "%%time\n",
    "\n",
    "sub_df['toxic'] = sum(preds)/len(preds)\n",
    "sub_df.to_csv('submission.csv', index=False)"
   ]
  }
 ],
 "metadata": {
  "kernelspec": {
   "display_name": "Python 3",
   "language": "python",
   "name": "python3"
  },
  "language_info": {
   "codemirror_mode": {
    "name": "ipython",
    "version": 3
   },
   "file_extension": ".py",
   "mimetype": "text/x-python",
   "name": "python",
   "nbconvert_exporter": "python",
   "pygments_lexer": "ipython3",
   "version": "3.7.4"
  }
 },
 "nbformat": 4,
 "nbformat_minor": 4
}
